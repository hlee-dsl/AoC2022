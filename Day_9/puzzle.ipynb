{
 "cells": [
  {
   "cell_type": "code",
   "execution_count": 43,
   "metadata": {},
   "outputs": [],
   "source": [
    "# Part I - simple moves: head only move vertically and horizontally; tail can move diagonally\n",
    "\n",
    "import numpy as np\n",
    "\n",
    "def log_trail(trail, x, y):\n",
    "    new_pos = '('+ str(x) + ',' + str(y) + ')'\n",
    "    trail.add(new_pos)\n",
    "\n",
    "\n",
    "def move_tail(trail, hx, hy, tx, ty):\n",
    "\n",
    "    if abs(hx - tx) > 1:\n",
    "        # head moved vertically\n",
    "        nx = int((hx + tx) / 2)  # this should work regardless the direction of move\n",
    "        ny = int(hy)\n",
    "        #log_trail (trail, nx, ny)\n",
    "        return nx, ny\n",
    "    elif abs(hy - ty) > 1:\n",
    "        # head moved horizontally\n",
    "        nx = int(hx)\n",
    "        ny = int((hy + ty) / 2)\n",
    "        #log_trail (trail, nx, ny)\n",
    "        return nx, ny\n",
    "    else:\n",
    "        # no need to move. Return the same value\n",
    "        return tx, ty\n",
    "\n"
   ]
  },
  {
   "cell_type": "code",
   "execution_count": 39,
   "metadata": {},
   "outputs": [
    {
     "name": "stdout",
     "output_type": "stream",
     "text": [
      "6026\n"
     ]
    }
   ],
   "source": [
    "# Part 1\n",
    "#iniitalization\n",
    "trail = set()\n",
    "hx = hy = tx = ty = int(0)\n",
    "\n",
    "# log initial tail position\n",
    "log_trail(trail, tx, ty)\n",
    "\n",
    "\n",
    "\n",
    "f = open('input.txt', 'rt')\n",
    "\n",
    "#build the grid\n",
    "for s in f:\n",
    "    dir, moves = s.strip().split(' ')\n",
    "\n",
    "    for i in range(int(moves)):\n",
    "        if dir == 'R':\n",
    "            hy += 1\n",
    "        elif dir == 'L':\n",
    "            hy -= 1\n",
    "        elif dir == 'U':\n",
    "            hx += 1\n",
    "        elif dir == 'D':\n",
    "            hx -= 1\n",
    "        else:\n",
    "            print(\"Error In Data\")\n",
    "            break\n",
    "        tx, ty = move_tail(trail, hx, hy, tx, ty) # update tail position\n",
    "\n",
    "print(len(trail))\n",
    "\n",
    "\n",
    " \n"
   ]
  },
  {
   "cell_type": "code",
   "execution_count": 3,
   "metadata": {},
   "outputs": [],
   "source": [
    "# Part 2: \n",
    "\n",
    "import numpy as np\n",
    "\n",
    "def log_trail(trail, x, y):\n",
    "    new_pos = '('+ str(x) + ',' + str(y) + ')'\n",
    "    trail.add(new_pos)\n",
    "\n",
    "# redefine the function, take two input, head and tail\n",
    "# each is a coordinate\n",
    "# move the log function call out of this since we only log the tail\n",
    "# but not the intermediate ones\n",
    "def move_tail(head, tail):\n",
    "    #print(\"moving\", head, tail)\n",
    "    hx = head[0]\n",
    "    hy = head[1]\n",
    "    tx = tail[0]\n",
    "    ty = tail[1]\n",
    "    # Test the conditions once and use multiple times later\n",
    "    x_move = abs(hx - tx) >= 2\n",
    "    y_move = abs(hy - ty) >= 2\n",
    "    if x_move and y_move:\n",
    "        nx = int((hx + tx) / 2) \n",
    "        ny = int((hy + ty) / 2)\n",
    "    elif x_move:\n",
    "        # head moved vertically\n",
    "        nx = int((hx + tx) / 2)  \n",
    "        ny = int(hy)\n",
    "    elif y_move:\n",
    "        # head moved horizontally\n",
    "        nx = int(hx)\n",
    "        ny = int((hy + ty) / 2)\n",
    "        #log_trail (trail, nx, ny)\n",
    "    else:\n",
    "        # no need to move. Return the same value\n",
    "        nx = tx\n",
    "        ny = ty\n",
    "    return [nx, ny]"
   ]
  },
  {
   "cell_type": "code",
   "execution_count": 4,
   "metadata": {},
   "outputs": [
    {
     "name": "stdout",
     "output_type": "stream",
     "text": [
      "2273\n"
     ]
    }
   ],
   "source": [
    "#part 2  - this works for Part 1 too with the new functions\n",
    "\n",
    "log = set()\n",
    "n = 10\n",
    "t = n - 1 # index of tail\n",
    "rope = np.zeros([n, 2], dtype='int')\n",
    "log = {tuple(rope[t])}\n",
    "\n",
    "f = open('input.txt', 'rt')\n",
    "for s in f:\n",
    "    dir, moves = s.strip().split(' ')\n",
    "    #print (s)\n",
    "    for i in range(int(moves)):\n",
    "        if dir == 'R':\n",
    "            rope[0,0] += 1\n",
    "        elif dir == 'L':\n",
    "            rope[0,0] -= 1\n",
    "        elif dir == 'U':\n",
    "            rope[0,1] += 1\n",
    "        elif dir == 'D':\n",
    "            rope[0,1] -= 1\n",
    "        else:\n",
    "            print(\"Error In Data\")\n",
    "            break\n",
    "        for j in range(t):\n",
    "            rope[j+1] = move_tail(rope[j], rope[j+1]) \n",
    "            \n",
    "        #log_trail(trail, rope[t])\n",
    "        log.add(tuple(rope[t]))\n",
    " \n",
    "\n",
    "print( len(log))\n"
   ]
  }
 ],
 "metadata": {
  "kernelspec": {
   "display_name": "Python 3.9.6 64-bit",
   "language": "python",
   "name": "python3"
  },
  "language_info": {
   "codemirror_mode": {
    "name": "ipython",
    "version": 3
   },
   "file_extension": ".py",
   "mimetype": "text/x-python",
   "name": "python",
   "nbconvert_exporter": "python",
   "pygments_lexer": "ipython3",
   "version": "3.9.6"
  },
  "orig_nbformat": 4,
  "vscode": {
   "interpreter": {
    "hash": "11938c6bc6919ae2720b4d5011047913343b08a43b18698fd82dedb0d4417594"
   }
  }
 },
 "nbformat": 4,
 "nbformat_minor": 2
}
