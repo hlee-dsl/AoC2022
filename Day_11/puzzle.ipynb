{
 "cells": [
  {
   "cell_type": "code",
   "execution_count": null,
   "metadata": {},
   "outputs": [],
   "source": [
    "# read parsed input to build the initial data structure\n",
    "o_item_lists = []\n",
    "\n",
    "f1 = open('input_item_list.txt', 'rt')\n",
    "i = 0\n",
    "#build the grid\n",
    "for s in f1:\n",
    "    i += 1\n",
    "    new_list = s.strip().split(',')\n",
    "    new_list = [int(i) for i in new_list]\n",
    "    o_item_lists.append(new_list)\n",
    "\n",
    "print(o_item_lists)\n",
    "nm = i\n",
    "print(\"There are\", i, \"monkeys in the input data\")\n",
    "\n",
    "f2 = open('input_divisible_by.txt', 'rt')\n",
    "\n",
    "#build the grid\n",
    "divisible_by = []\n",
    "for s in f2:\n",
    "    new_val= int(s.strip())\n",
    "    divisible_by.append(new_val)\n",
    "\n",
    "print(divisible_by)\n",
    "\n",
    "f3 = open('input_true_value.txt', 'rt')\n",
    "\n",
    "#build the grid\n",
    "goto_if_true = []\n",
    "for s in f3:\n",
    "    new_val= int(s.strip())\n",
    "    goto_if_true.append(new_val)\n",
    "\n",
    "print(goto_if_true)\n",
    "\n",
    "f4 = open('input_false_value.txt', 'rt')\n",
    "\n",
    "#build the grid\n",
    "goto_if_false = []\n",
    "for s in f4:\n",
    "    new_val= int(s.strip())\n",
    "    goto_if_false.append(new_val)\n",
    "\n",
    "print(goto_if_false)\n"
   ]
  },
  {
   "cell_type": "code",
   "execution_count": null,
   "metadata": {},
   "outputs": [],
   "source": [
    "from math import lcm\n",
    "\n",
    "\n",
    "my_lcm = 1\n",
    "for dn in divisible_by:\n",
    "    my_lcm = lcm(my_lcm, dn)\n",
    "    #print (dn, my_lcm)"
   ]
  },
  {
   "cell_type": "code",
   "execution_count": null,
   "metadata": {},
   "outputs": [],
   "source": [
    "def print_rst(item_lists):\n",
    "    for i in range(len(item_lists)):\n",
    "        print(item_lists[i])"
   ]
  },
  {
   "cell_type": "code",
   "execution_count": null,
   "metadata": {},
   "outputs": [],
   "source": [
    "# update the middle part of this function if input is changed\n",
    "# my shell script parse the input and generate code for each monkey\n",
    "def new_wl(old, monkey):\n",
    "    # paste the content of \"input_operations\"\n",
    "    # the following are from the test data in test.txt\n",
    "    if monkey == 0:\n",
    "        new = old * 19\n",
    "    if monkey == 1:\n",
    "        new = old + 6\n",
    "    if monkey == 2:\n",
    "        new = old * old\n",
    "    if monkey == 3:\n",
    "        new = old + 3\n",
    "\n",
    "    #return int(new/3)  ## part I\n",
    "    return int(new % my_lcm)  ## part II\n",
    "\n"
   ]
  },
  {
   "cell_type": "code",
   "execution_count": null,
   "metadata": {},
   "outputs": [],
   "source": [
    "# update the middle part of this function if input is changed\n",
    "# my shell script parse the input and generate code for each monkey\n",
    "def new_wl(old, monkey):\n",
    "    # paste the content of \"input_operations\"\n",
    "    # the following are from the true input data from input.txt\n",
    "    if monkey == 0:\n",
    "        new = old * 17\n",
    "    if monkey == 1:\n",
    "        new = old + 2\n",
    "    if monkey == 2:\n",
    "        new = old + 1\n",
    "    if monkey == 3:\n",
    "        new = old + 7\n",
    "    if monkey == 4:\n",
    "        new = old * old\n",
    "    if monkey == 5:\n",
    "        new = old + 8\n",
    "    if monkey == 6:\n",
    "        new = old * 2\n",
    "    if monkey == 7:\n",
    "        new = old + 6\n",
    "\n",
    "    #return int(new/3)  ## part I\n",
    "    return int(new % my_lcm)  ## part II\n"
   ]
  },
  {
   "cell_type": "code",
   "execution_count": null,
   "metadata": {},
   "outputs": [],
   "source": [
    "#initialize data structure\n",
    "import numpy as np\n",
    "insp_ct = np.zeros((nm), int)\n",
    "print (insp_ct)\n",
    "\n",
    "item_lists = o_item_lists.copy()\n",
    "\n",
    "print_rst(item_lists)"
   ]
  },
  {
   "cell_type": "code",
   "execution_count": null,
   "metadata": {},
   "outputs": [],
   "source": [
    "\n",
    "#rounds = 20  ## part I\n",
    "rounds = 10000 ## part II\n",
    "\n",
    "for r in range(rounds):  # do this 20 rounds per requirements\n",
    "    #print (\"Round \", r, insp_ct)\n",
    "    for m in range(nm):  # proces each monkey\n",
    "        while item_lists[m] != []:\n",
    "            old = item_lists[m].pop(0)\n",
    "            insp_ct[m] += 1\n",
    "            new = new_wl(old, m)\n",
    "            if (new % divisible_by[m]) == 0:\n",
    "                item_lists[goto_if_true[m]].append(new)\n",
    "            else:\n",
    "                item_lists[goto_if_false[m]].append(new)\n",
    "        \n",
    "\n",
    "    #print_rst(item_lists)\n",
    "print (insp_ct)\n",
    "insp_ct.sort()\n",
    "x =  int(insp_ct[-1])\n",
    "y =  int(insp_ct[-2])\n",
    "print(x, y)\n",
    "answer = x * y\n",
    "print(answer)\n"
   ]
  }
 ],
 "metadata": {
  "kernelspec": {
   "display_name": "Python 3.9.6 64-bit",
   "language": "python",
   "name": "python3"
  },
  "language_info": {
   "codemirror_mode": {
    "name": "ipython",
    "version": 3
   },
   "file_extension": ".py",
   "mimetype": "text/x-python",
   "name": "python",
   "nbconvert_exporter": "python",
   "pygments_lexer": "ipython3",
   "version": "3.9.6"
  },
  "orig_nbformat": 4,
  "vscode": {
   "interpreter": {
    "hash": "11938c6bc6919ae2720b4d5011047913343b08a43b18698fd82dedb0d4417594"
   }
  }
 },
 "nbformat": 4,
 "nbformat_minor": 2
}
