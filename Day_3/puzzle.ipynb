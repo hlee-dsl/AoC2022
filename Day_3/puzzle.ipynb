{
 "cells": [
  {
   "cell_type": "code",
   "execution_count": 3,
   "metadata": {},
   "outputs": [],
   "source": [
    "## function to return the priority of a single character\n",
    "def prior(c):\n",
    "    if c[0].isupper():\n",
    "        return 27+ ord(c[0]) - ord('A')\n",
    "    else:\n",
    "        return 1 + ord(c[0]) - ord('a')\n",
    "\n",
    "## function to see if there is any common letters in the two strings\n",
    "def score(str1, str2):\n",
    "    score = 0\n",
    "    set_1 = set(str1)\n",
    "    set_2 = set(str2)\n",
    "    common = set_1.intersection(set_2)\n",
    "    for x in common:\n",
    "       # print(\"common: \", x)\n",
    "        score += prior(x)\n",
    "    return score"
   ]
  },
  {
   "cell_type": "code",
   "execution_count": 5,
   "metadata": {},
   "outputs": [
    {
     "name": "stdout",
     "output_type": "stream",
     "text": [
      "Total Score is  8349\n"
     ]
    }
   ],
   "source": [
    "f = open('input.txt', 'rt')\n",
    "\n",
    "total_score = 0\n",
    "for str in f:\n",
    "    l = int(len(str)/2)\n",
    "    str_1 = str[:l]\n",
    "    str_2 = str[l:]\n",
    "    # print (str)\n",
    "    # print(str_1, str_2)\n",
    "    s = score(str_1, str_2)\n",
    "    total_score += s\n",
    "\n",
    "print (\"Total Score is \", total_score)\n",
    "\n"
   ]
  },
  {
   "cell_type": "code",
   "execution_count": 12,
   "metadata": {},
   "outputs": [
    {
     "name": "stdout",
     "output_type": "stream",
     "text": [
      "[['a', 'b', 'c'], ['d', 'e', 'f']]\n"
     ]
    }
   ],
   "source": [
    "#test cases:\n",
    "test_list = ['a', 'b', 'c', 'd', 'e', 'f']\n",
    "def to_matrix(l, n):\n",
    "    return [l[i:i+n] for i in range(0, len(l), n)]\n",
    "\n",
    "new_list = to_matrix(test_list, 3)\n",
    "print (new_list)\n",
    "\n"
   ]
  },
  {
   "cell_type": "code",
   "execution_count": 31,
   "metadata": {},
   "outputs": [
    {
     "name": "stdout",
     "output_type": "stream",
     "text": [
      "total score:  2681\n"
     ]
    }
   ],
   "source": [
    "# part 2\n",
    "import string\n",
    "\n",
    "f = open('input2.txt', 'rt')\n",
    "file_content = f.read() \n",
    "my_list = file_content.split()\n",
    "\n",
    "## convert the list to group of 3\n",
    "n = 3\n",
    "new_list = to_matrix(my_list, n)\n",
    "\n",
    "## construct a set with all the characters\n",
    "base = set(string.ascii_lowercase + string.ascii_uppercase)\n",
    "\n",
    "total_score = 0\n",
    "for i in range(0, len(new_list), 1):\n",
    "    #print (\"iteration \", i)\n",
    "    common = base\n",
    "    for j in range(n):\n",
    "        #print(new_list[i][j])\n",
    "        new_set = set(new_list[i][j])\n",
    "        common = common.intersection(new_set)\n",
    "\n",
    "    score = 0\n",
    "    for x in common:\n",
    "        score += prior(x)\n",
    "        #print (\"common \", x, \"score: \", score)\n",
    "    total_score += score\n",
    "print (\"total score: \", total_score)"
   ]
  },
  {
   "cell_type": "code",
   "execution_count": 27,
   "metadata": {},
   "outputs": [
    {
     "name": "stdout",
     "output_type": "stream",
     "text": [
      "{'j', 'J', 'p', 'm', 'n', 'N', 'v', 'C', 'Q', 'L', 'd', 'X', 'g', 'l', 'S', 'B', 'r', 'K', 'U', 'z', 'V', 'W', 'O', 'h', 'A', 'x', 's', 'k', 't', 'H', 'E', 'e', 'q', 'u', 'D', 'a', 'R', 'i', 'M', 'P', 'w', 'b', 'G', 'T', 'f', 'y', 'F', 'Z', 'Y', 'o', 'c', 'I'}\n"
     ]
    }
   ],
   "source": [
    "import string\n",
    "#u=string.ascii_lowercase + string.ascii_uppercase\n",
    "common = set(string.ascii_lowercase + string.ascii_uppercase)\n",
    "print (common)"
   ]
  }
 ],
 "metadata": {
  "kernelspec": {
   "display_name": "Python 3.9.6 64-bit",
   "language": "python",
   "name": "python3"
  },
  "language_info": {
   "codemirror_mode": {
    "name": "ipython",
    "version": 3
   },
   "file_extension": ".py",
   "mimetype": "text/x-python",
   "name": "python",
   "nbconvert_exporter": "python",
   "pygments_lexer": "ipython3",
   "version": "3.9.6"
  },
  "orig_nbformat": 4,
  "vscode": {
   "interpreter": {
    "hash": "11938c6bc6919ae2720b4d5011047913343b08a43b18698fd82dedb0d4417594"
   }
  }
 },
 "nbformat": 4,
 "nbformat_minor": 2
}
