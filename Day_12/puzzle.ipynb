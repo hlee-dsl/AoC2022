{
 "cells": [
  {
   "cell_type": "code",
   "execution_count": 1,
   "metadata": {},
   "outputs": [
    {
     "name": "stdout",
     "output_type": "stream",
     "text": [
      "(1, 'Jones')\n",
      "False\n",
      "False\n",
      "(2, 'Smith')\n",
      "(3, 'Collins')\n",
      "(4, 'Wilson')\n",
      "True\n"
     ]
    }
   ],
   "source": [
    "from queue import PriorityQueue\n",
    "q = PriorityQueue()\n",
    "\n",
    "q.put((2, \"Smith\"))\n",
    "q.put((1, \"Jones\"))\n",
    "q.put((4, \"Wilson\"))\n",
    "\n",
    "next = q.get()\n",
    "print(next)\n",
    "\n",
    "print(q.empty())\n",
    "print(q.full())\n",
    "\n",
    "q.put((3, \"Collins\"))\n",
    "print(q.get())\n",
    "\n",
    "while not q.empty():\n",
    "     print(q.get())\n",
    "\n",
    "print(q.empty())"
   ]
  }
 ],
 "metadata": {
  "kernelspec": {
   "display_name": "Python 3.9.6 64-bit",
   "language": "python",
   "name": "python3"
  },
  "language_info": {
   "codemirror_mode": {
    "name": "ipython",
    "version": 3
   },
   "file_extension": ".py",
   "mimetype": "text/x-python",
   "name": "python",
   "nbconvert_exporter": "python",
   "pygments_lexer": "ipython3",
   "version": "3.9.6 (tags/v3.9.6:db3ff76, Jun 28 2021, 15:26:21) [MSC v.1929 64 bit (AMD64)]"
  },
  "orig_nbformat": 4,
  "vscode": {
   "interpreter": {
    "hash": "11938c6bc6919ae2720b4d5011047913343b08a43b18698fd82dedb0d4417594"
   }
  }
 },
 "nbformat": 4,
 "nbformat_minor": 2
}
