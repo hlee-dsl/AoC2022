{
 "cells": [
  {
   "cell_type": "code",
   "execution_count": 107,
   "metadata": {},
   "outputs": [
    {
     "name": "stdout",
     "output_type": "stream",
     "text": [
      "[]\n",
      "[[1 1 1]\n",
      " [3 4 5]]\n",
      "[4, 5, 1, 0, 8, 7, 7]\n",
      "[0 1 4 5 7 7 8]\n",
      "8\n"
     ]
    }
   ],
   "source": [
    "import numpy as np\n",
    "a = np.empty((0,3), int)\n",
    "print (a)\n",
    "\n",
    "a = np.append(a, np.array([[1,1,1]]), axis=0)\n",
    "a = np.append(a, np.array([[3,4,5]]), axis=0)\n",
    "print(a)\n",
    "\n",
    "a=[4, 5, 1, 0, 8, 7, 7]\n",
    "print (a)\n",
    "print(np.sort(a))\n",
    "print(np.sort(a)[-1])"
   ]
  },
  {
   "cell_type": "code",
   "execution_count": 130,
   "metadata": {},
   "outputs": [
    {
     "name": "stdout",
     "output_type": "stream",
     "text": [
      "99 99\n"
     ]
    }
   ],
   "source": [
    "import numpy as np\n",
    "\n",
    "f = open('input.txt', 'rt')\n",
    "\n",
    "#get the dimension of the input\n",
    "row = f.readline()\n",
    "row_size = len(row.strip())\n",
    "\n",
    "#initialize an empty grid\n",
    "grid = np.empty((0,row_size), dtype='int16')\n",
    " \n",
    "#go back to the beginning of the file\n",
    "f.seek(0)\n",
    "\n",
    "#build the grid\n",
    "for s in f:\n",
    "    new_row =  np.array([list(s.strip())], dtype='int16')\n",
    "    grid = np.append(grid, new_row, axis = 0)\n",
    "\n",
    "#print(grid)\n",
    "\n",
    "row_size, col_size = grid.shape\n",
    "print(row_size, col_size)\n",
    "\n"
   ]
  },
  {
   "cell_type": "code",
   "execution_count": 131,
   "metadata": {},
   "outputs": [],
   "source": [
    "def visible(grid, x, y):\n",
    "    \n",
    "    x_size, y_size = grid.shape\n",
    "    up_max = np.sort(grid[0:x, y])[-1]\n",
    "    down_max = np.sort(grid[x+1:x_size, y])[-1]\n",
    "    left_max = np.sort(grid[x, 0:y])[-1]\n",
    "    right_max = np.sort(grid[x, y+1:y_size])[-1]\n",
    "    val = grid[x,y]\n",
    "    return val > up_max or val > down_max or val> left_max or val > right_max\n",
    "  "
   ]
  },
  {
   "cell_type": "code",
   "execution_count": 132,
   "metadata": {},
   "outputs": [
    {
     "name": "stdout",
     "output_type": "stream",
     "text": [
      "392\n",
      "1812\n"
     ]
    }
   ],
   "source": [
    "visible_count = (row_size + col_size) * 2 - 4\n",
    "\n",
    "print (visible_count)\n",
    "\n",
    "for i in range(1,row_size-1):\n",
    "    for j in range(1,col_size-1):\n",
    "        if visible(grid, i, j):\n",
    "            visible_count += 1\n",
    "\n",
    "print (visible_count)\n"
   ]
  },
  {
   "cell_type": "code",
   "execution_count": 54,
   "metadata": {},
   "outputs": [
    {
     "name": "stdout",
     "output_type": "stream",
     "text": [
      "99 99\n"
     ]
    }
   ],
   "source": [
    "# part 2\n",
    "import numpy as np\n",
    "\n",
    "f = open('input.txt', 'rt')\n",
    "\n",
    "#get the dimension of the input\n",
    "row = f.readline()\n",
    "row_size = len(row.strip())\n",
    "\n",
    "#initialize an empty grid\n",
    "grid = np.empty((0,row_size), dtype='int16')\n",
    " \n",
    "#go back to the beginning of the file\n",
    "f.seek(0)\n",
    "\n",
    "#build the grid\n",
    "for s in f:\n",
    "    new_row =  np.array([list(s.strip())], dtype='int16')\n",
    "    grid = np.append(grid, new_row, axis = 0)\n",
    "\n",
    "#print(grid)\n",
    "\n",
    "row_size, col_size = grid.shape\n",
    "print(row_size, col_size)\n",
    "\n"
   ]
  },
  {
   "cell_type": "code",
   "execution_count": 55,
   "metadata": {},
   "outputs": [],
   "source": [
    "def left_dist(grid, x, y):\n",
    "    x_l, y_l = grid.shape\n",
    "    my_val = grid[x,y]\n",
    "\n",
    "    cnt = 0\n",
    "    if x==0 or x == x_l -1 or y == 0 or y == y_l-1:\n",
    "        return 0\n",
    "    else:\n",
    "        vec = np.flip(grid[x, 0:y])\n",
    "        #print (vec, vec.size)\n",
    "        for i in range(vec.size):\n",
    "            #print(i,vec[i])\n",
    "            cnt += 1\n",
    "            if my_val <= vec[i]:\n",
    "                break\n",
    "    return cnt\n",
    "\n",
    "def up_dist(grid, x, y):\n",
    "    x_l, y_l = grid.shape\n",
    "    my_val = grid[x,y]\n",
    "\n",
    "    cnt = 0\n",
    "    if x==0 or x == x_l -1 or y == 0 or y == y_l-1:\n",
    "        return 0\n",
    "    else:\n",
    "        vec = np.flip(grid[0:x, y])\n",
    "        #print (vec, vec.size)\n",
    "        for i in range(vec.size):\n",
    "            #print(i,vec[i])\n",
    "            cnt += 1\n",
    "            if my_val <= vec[i]:\n",
    "                break\n",
    "    return cnt"
   ]
  },
  {
   "cell_type": "code",
   "execution_count": 56,
   "metadata": {},
   "outputs": [],
   "source": [
    "def right_dist(grid, x, y):\n",
    "    x_l, y_l = grid.shape\n",
    "    my_val = grid[x,y]\n",
    "\n",
    "    cnt = 0\n",
    "    if x==0 or x == x_l -1 or y == 0 or y == y_l-1:\n",
    "        return 0\n",
    "    else:\n",
    "        vec = grid[x, y+1:y_l]\n",
    "        #print (vec, vec.size)\n",
    "        for i in range(vec.size):\n",
    "            #print(i,vec[i])\n",
    "            cnt += 1\n",
    "            if my_val <= vec[i]:\n",
    "                break\n",
    "    return cnt\n",
    "\n",
    "def down_dist(grid, x, y):\n",
    "    x_l, y_l = grid.shape\n",
    "    my_val = grid[x,y]\n",
    "\n",
    "    cnt = 0\n",
    "    if x==0 or x == x_l -1 or y == 0 or y == y_l-1:\n",
    "        return 0\n",
    "    else:\n",
    "        vec = grid[x+1:x_l, y]\n",
    "        #print (vec, vec.size)\n",
    "        for i in range(vec.size):\n",
    "            #print(i,vec[i])\n",
    "            cnt += 1\n",
    "            if my_val <= vec[i]:\n",
    "                break\n",
    "    return cnt\n"
   ]
  },
  {
   "cell_type": "code",
   "execution_count": 58,
   "metadata": {},
   "outputs": [
    {
     "name": "stdout",
     "output_type": "stream",
     "text": [
      "315495\n"
     ]
    }
   ],
   "source": [
    "max = 0\n",
    "for i in range(row_size):\n",
    "    for j in range(col_size):\n",
    "        #print (\"pos:\", i,j)\n",
    "        val = left_dist(grid, i, j) * \\\n",
    "              right_dist(grid, i, j) * \\\n",
    "              up_dist(grid, i, j) * \\\n",
    "              down_dist(grid, i, j)\n",
    "        #print(\"value:\", val)\n",
    "        if val > max:\n",
    "            max = val\n",
    "print(max)\n"
   ]
  }
 ],
 "metadata": {
  "kernelspec": {
   "display_name": "Python 3.9.6 64-bit",
   "language": "python",
   "name": "python3"
  },
  "language_info": {
   "codemirror_mode": {
    "name": "ipython",
    "version": 3
   },
   "file_extension": ".py",
   "mimetype": "text/x-python",
   "name": "python",
   "nbconvert_exporter": "python",
   "pygments_lexer": "ipython3",
   "version": "3.9.6 (tags/v3.9.6:db3ff76, Jun 28 2021, 15:26:21) [MSC v.1929 64 bit (AMD64)]"
  },
  "orig_nbformat": 4,
  "vscode": {
   "interpreter": {
    "hash": "11938c6bc6919ae2720b4d5011047913343b08a43b18698fd82dedb0d4417594"
   }
  }
 },
 "nbformat": 4,
 "nbformat_minor": 2
}
