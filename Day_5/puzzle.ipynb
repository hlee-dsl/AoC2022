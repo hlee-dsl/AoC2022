{
 "cells": [
  {
   "cell_type": "code",
   "execution_count": 12,
   "metadata": {},
   "outputs": [],
   "source": []
  },
  {
   "cell_type": "code",
   "execution_count": null,
   "metadata": {},
   "outputs": [],
   "source": [
    "# build the stacks first \n",
    "# I preprocessed txt file, save the results in a csv, transposed the data and\n",
    "# saved in another csv to have the stack in horizontal lines\n",
    "# an empty row is added for stack 0\n",
    "# other rows with the first letter on the top\n",
    "\n",
    "f = open('fstack.txt', 'rt')\n",
    "stacks_b = []\n",
    "\n",
    "for s in f:\n",
    "    ##print (s)\n",
    "    stack = s.rstrip().split(',')\n",
    "    ##print (stack)\n",
    "    stacks_b.append(stack)\n",
    "\n",
    "for i in range(len(stacks_b)):\n",
    "    print (i, \":\", stacks_b[i])\n",
    "    "
   ]
  },
  {
   "cell_type": "code",
   "execution_count": 67,
   "metadata": {},
   "outputs": [],
   "source": [
    "\n",
    "def move(stacks, from_stack, to_stack):\n",
    "    stacks[to_stack].insert(0, stacks[from_stack].pop(0))\n",
    "\n",
    "def move_n(stacks, from_stack, to_stack, n):\n",
    "    stacks[to_stack] = stacks[from_stack][:n] + stacks[to_stack]\n",
    "    stacks[from_stack] = stacks[from_stack][n:]\n",
    "    \n",
    "\n",
    "\n"
   ]
  },
  {
   "cell_type": "code",
   "execution_count": null,
   "metadata": {},
   "outputs": [],
   "source": [
    "#part1 \n",
    "f = open('input.txt', 'rt')\n",
    "\n",
    "stacks = stacks_b.copy() \n",
    "for i in range(len(stacks)):\n",
    "    print (i, \":\", stacks[i])\n",
    "for s in f:\n",
    "    print (s)\n",
    "    k1, n, k2, fs, k3, ts = s.split(' ')\n",
    "    for i in range(int(n)):\n",
    "        move(stacks, int(fs), int(ts))\n",
    "        \n",
    "    for i in range(len(stacks)):\n",
    "       print (i, \":\", stacks[i])\n",
    "    \n",
    "\n",
    "\n",
    "\n"
   ]
  },
  {
   "cell_type": "code",
   "execution_count": null,
   "metadata": {},
   "outputs": [],
   "source": [
    "# part 2\n",
    "f = open('input.txt', 'rt')\n",
    "\n",
    "stacks = stacks_b.copy() \n",
    "for i in range(len(stacks)):\n",
    "    print (i, \":\", stacks[i])\n",
    "for s in f:\n",
    "    print (s)\n",
    "    k1, n, k2, fs, k3, ts = s.split(' ')\n",
    "   \n",
    "    move_n(stacks, int(fs), int(ts), int(n))\n",
    "        \n",
    "    for i in range(len(stacks)):\n",
    "        print (i, \":\", stacks[i])\n",
    "    \n",
    "\n",
    "\n",
    "\n"
   ]
  },
  {
   "cell_type": "code",
   "execution_count": 69,
   "metadata": {},
   "outputs": [
    {
     "name": "stdout",
     "output_type": "stream",
     "text": [
      "QNDWLMGNS\n"
     ]
    }
   ],
   "source": [
    "result = ''\n",
    "for i in range(len(stacks)):\n",
    "    result += stacks[i][0]\n",
    "\n",
    "print(result)"
   ]
  },
  {
   "cell_type": "code",
   "execution_count": null,
   "metadata": {},
   "outputs": [],
   "source": []
  }
 ],
 "metadata": {
  "kernelspec": {
   "display_name": "Python 3.9.6 64-bit",
   "language": "python",
   "name": "python3"
  },
  "language_info": {
   "codemirror_mode": {
    "name": "ipython",
    "version": 3
   },
   "file_extension": ".py",
   "mimetype": "text/x-python",
   "name": "python",
   "nbconvert_exporter": "python",
   "pygments_lexer": "ipython3",
   "version": "3.9.6"
  },
  "orig_nbformat": 4,
  "vscode": {
   "interpreter": {
    "hash": "11938c6bc6919ae2720b4d5011047913343b08a43b18698fd82dedb0d4417594"
   }
  }
 },
 "nbformat": 4,
 "nbformat_minor": 2
}
