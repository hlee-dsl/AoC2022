{
 "cells": [
  {
   "cell_type": "code",
   "execution_count": 126,
   "metadata": {},
   "outputs": [],
   "source": [
    "import numpy as np\n",
    "\n",
    "# starting an array with the initial register value with cycle 0\n",
    "reg = np.array([1])\n",
    "\n",
    "f = open('input.txt', 'rt')\n",
    "\n",
    "#build the grid\n",
    "for s in f:\n",
    "    instr = s.strip() \n",
    "    #print (instr)\n",
    "    prev = reg[-1]\n",
    "   \n",
    "    if instr == 'noop':\n",
    "        # do nothing, add the the array the value of the next cycle\n",
    "        reg  = np.append(reg , prev)\n",
    "    else:\n",
    "        op, val_str = instr.split(' ')\n",
    "        if op == \"addx\":\n",
    "            reg = np.append(reg, prev)  #add the value of the first cycle\n",
    "            val = int(val_str) + prev\n",
    "            reg = np.append(reg, np.array([val]))  # add the value of the second cycle\n",
    "        else:\n",
    "            print(\"unrecognized instruction -\", instr)\n",
    "            exit(1)\n",
    "    #print(reg)\n",
    "\n",
    "\n",
    " \n"
   ]
  },
  {
   "cell_type": "code",
   "execution_count": 127,
   "metadata": {},
   "outputs": [
    {
     "name": "stdout",
     "output_type": "stream",
     "text": [
      "20 : 21 21\n",
      "60 : 21 21\n",
      "100 : 21 21\n",
      "140 : 17 19\n",
      "180 : 21 21\n",
      "220 : 21 21\n",
      "14560\n"
     ]
    }
   ],
   "source": [
    "\n",
    "total_ss = 0\n",
    "for i in range(20, len(reg), 40):\n",
    "    print(i, ':', reg[i-1], reg[i])\n",
    "    total_ss += i * reg[i-1]\n",
    "\n",
    "print (total_ss)\n",
    " "
   ]
  },
  {
   "cell_type": "code",
   "execution_count": 128,
   "metadata": {},
   "outputs": [
    {
     "name": "stdout",
     "output_type": "stream",
     "text": [
      "6 40\n",
      "6\n"
     ]
    }
   ],
   "source": [
    "map = reg[0:-1]\n",
    "#print(map)\n",
    "\n",
    "width = 40\n",
    "depth = int(len(map)/width)\n",
    "print (depth, width)\n",
    "\n",
    "new_map = np.reshape(map,(depth, width))\n",
    "print(len(new_map))"
   ]
  },
  {
   "cell_type": "code",
   "execution_count": 129,
   "metadata": {},
   "outputs": [],
   "source": [
    "def print_line(line):\n",
    "    new_line = \"\"\n",
    "    for i in range(len(line)):\n",
    "        new_line += line[i]\n",
    "    print(new_line)"
   ]
  },
  {
   "cell_type": "code",
   "execution_count": 130,
   "metadata": {},
   "outputs": [
    {
     "name": "stdout",
     "output_type": "stream",
     "text": [
      "####.#..#.###..#..#.####.###..#..#.####.\n",
      "#....#.#..#..#.#..#.#....#..#.#..#....#.\n",
      "###..##...#..#.####.###..#..#.#..#...#..\n",
      "#....#.#..###..#..#.#....###..#..#..#...\n",
      "#....#.#..#.#..#..#.#....#....#..#.#....\n",
      "####.#..#.#..#.#..#.####.#.....##..####.\n"
     ]
    }
   ],
   "source": [
    "line = [\".\"] * width\n",
    "lines = []\n",
    "for i in range(depth):\n",
    "    lines.append(line.copy())\n",
    "#print(len(lines))\n",
    "\n",
    "\n",
    "for i in range(depth):\n",
    "\n",
    "    for j in range(width):\n",
    "        x_val = new_map[i][j]\n",
    "        pos = [x_val-1, x_val, x_val +1]\n",
    "        #print (j, pos)\n",
    "        if j in pos:\n",
    "            #print(\"marking # for \", i, j)\n",
    "            lines[i][j]= \"#\"\n",
    "    \n",
    "\n",
    "for i in range(depth):\n",
    "    print_line(lines[i])\n",
    "\n",
    "# The results is EKRHEPUZ\n"
   ]
  },
  {
   "cell_type": "code",
   "execution_count": null,
   "metadata": {},
   "outputs": [],
   "source": []
  }
 ],
 "metadata": {
  "kernelspec": {
   "display_name": "Python 3.9.6 64-bit",
   "language": "python",
   "name": "python3"
  },
  "language_info": {
   "codemirror_mode": {
    "name": "ipython",
    "version": 3
   },
   "file_extension": ".py",
   "mimetype": "text/x-python",
   "name": "python",
   "nbconvert_exporter": "python",
   "pygments_lexer": "ipython3",
   "version": "3.9.6"
  },
  "orig_nbformat": 4,
  "vscode": {
   "interpreter": {
    "hash": "11938c6bc6919ae2720b4d5011047913343b08a43b18698fd82dedb0d4417594"
   }
  }
 },
 "nbformat": 4,
 "nbformat_minor": 2
}
